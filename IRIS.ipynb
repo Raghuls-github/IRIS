{
 "cells": [
  {
   "cell_type": "code",
   "execution_count": 1,
   "metadata": {},
   "outputs": [
    {
     "name": "stdout",
     "output_type": "stream",
     "text": [
      "Requirement already satisfied: gtts in g:\\anaconda\\lib\\site-packages (2.2.1)Note: you may need to restart the kernel to use updated packages.\n",
      "Requirement already satisfied: click in g:\\anaconda\\lib\\site-packages (from gtts) (7.1.2)\n",
      "Requirement already satisfied: six in g:\\anaconda\\lib\\site-packages (from gtts) (1.15.0)\n",
      "Requirement already satisfied: requests in g:\\anaconda\\lib\\site-packages (from gtts) (2.24.0)\n",
      "Requirement already satisfied: chardet<4,>=3.0.2 in g:\\anaconda\\lib\\site-packages (from requests->gtts) (3.0.4)\n",
      "Requirement already satisfied: certifi>=2017.4.17 in g:\\anaconda\\lib\\site-packages (from requests->gtts) (2020.6.20)\n",
      "Requirement already satisfied: urllib3!=1.25.0,!=1.25.1,<1.26,>=1.21.1 in g:\\anaconda\\lib\\site-packages (from requests->gtts) (1.25.9)\n",
      "Requirement already satisfied: idna<3,>=2.5 in g:\\anaconda\\lib\\site-packages (from requests->gtts) (2.10)\n",
      "\n"
     ]
    }
   ],
   "source": [
    "pip install gtts"
   ]
  },
  {
   "cell_type": "code",
   "execution_count": 2,
   "metadata": {},
   "outputs": [
    {
     "name": "stdout",
     "output_type": "stream",
     "text": [
      "Requirement already satisfied: playsound in g:\\anaconda\\lib\\site-packages (1.2.2)\n",
      "Note: you may need to restart the kernel to use updated packages.\n"
     ]
    }
   ],
   "source": [
    "pip install playsound"
   ]
  },
  {
   "cell_type": "code",
   "execution_count": 4,
   "metadata": {},
   "outputs": [],
   "source": [
    "from tkinter import * \n",
    "from gtts import gTTS\n",
    "import os\n",
    "\n",
    "from playsound import playsound\n",
    "\n",
    "class Flag:\n",
    "    flag=0\n",
    "f=Flag()\n",
    "root = Tk ()\n",
    "root.geometry('350x350')\n",
    "root.configure (background='black')\n",
    "root.title (\"Iris\")\n",
    "Msg = StringVar\n",
    "\n",
    "\n",
    "Label(root, text = \"TEXT_TO_SPEECH\", font = \"arial 20 bold\", bg='white smoke').pack()\n",
    "Label(root,text =\"Iris\", font = 'arial 15 bold', bg ='white smoke' , width = '20').pack(side = 'bottom')\n",
    "Label(root,text =\"Enter Text\", font = 'arial 15 bold', bg ='white smoke').place(x=20,y=60)\n",
    "entry_field = Entry(root, textvariable = Msg ,width ='50')\n",
    "entry_field.place(x=20,y=100)\n",
    "\n",
    "def Text_to_speech():\n",
    "    if f.flag==1:\n",
    "        playsound('Iris.mp3')\n",
    "        return\n",
    "    Message = entry_field.get()\n",
    "    speech = gTTS(text = Message)\n",
    "    speech.save('Iris.mp3')\n",
    "    playsound('Iris.mp3')\n",
    "    f.flag=1\n",
    "\n",
    "def Exit():\n",
    "    root.destroy()\n",
    "    os.remove('Iris.mp3')\n",
    "\n",
    "def Reset():\n",
    "    f.flag=0\n",
    "    entry_field.delete(0, 'end')\n",
    "    os.remove('Iris.mp3')\n",
    "\n",
    "\n",
    "\n",
    "Button(root, font = 'arial 15 bold', text = 'PLAY', width = '4', command=Text_to_speech).place(x=25,y=140)\n",
    "Button(root, font = 'arial 15 bold', text = 'EXIT', width = '4', command = Exit, bg = 'Orange').place(x=100 , y = 140)\n",
    "Button(root, font = 'arial 15 bold', text = 'RESET', width = '6', command = Reset).place(x=175 , y = 140)\n",
    "\n",
    "root.mainloop ()\n"
   ]
  },
  {
   "cell_type": "code",
   "execution_count": null,
   "metadata": {},
   "outputs": [],
   "source": []
  }
 ],
 "metadata": {
  "kernelspec": {
   "display_name": "Python 3",
   "language": "python",
   "name": "python3"
  },
  "language_info": {
   "codemirror_mode": {
    "name": "ipython",
    "version": 3
   },
   "file_extension": ".py",
   "mimetype": "text/x-python",
   "name": "python",
   "nbconvert_exporter": "python",
   "pygments_lexer": "ipython3",
   "version": "3.8.3"
  }
 },
 "nbformat": 4,
 "nbformat_minor": 4
}
